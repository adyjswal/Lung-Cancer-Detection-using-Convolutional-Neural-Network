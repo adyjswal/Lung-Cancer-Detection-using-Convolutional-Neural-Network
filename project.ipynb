{
 "cells": [
  {
   "cell_type": "code",
   "execution_count": null,
   "metadata": {},
   "outputs": [],
   "source": [
    "import numpy as np\n",
    "import pandas as pd\n",
    "import matplotlib.pyplot as plt\n",
    "from PIL import Image\n",
    "from glob import glob\n",
    "\n",
    "from sklearn.model_selection import train_test_split\n",
    "from sklearn import metrics\n",
    "\n",
    "import cv2\n",
    "import gc\n",
    "import os\n",
    "\n",
    "import tensorflow as tf\n",
    "from tensorflow import keras\n",
    "from keras import layers\n",
    "\n",
    "import warnings\n",
    "warnings.filterwarnings('ignore')"
   ]
  },
  {
   "cell_type": "code",
   "execution_count": null,
   "metadata": {},
   "outputs": [],
   "source": [
    "path = 'lung_colon_image_set/lung_image_sets'\n",
    "classes = os.listdir(path)\n",
    "\n",
    "for cat in classes:\n",
    "    image_dir = f'{path}/{cat}'\n",
    "    images = os.listdir(image_dir)\n",
    "    \n",
    "    fig, ax = plt.subplots(1, 3, figsize=(15, 5))\n",
    "    fig.suptitle(f'Images for {cat} category . . . .', fontsize=20)\n",
    "\n",
    "    for i in range(3):\n",
    "        k = np.random.randint(0, len(images))\n",
    "        img_path = os.path.join(image_dir, images[k])\n",
    "        img = np.array(Image.open(img_path))\n",
    "        ax[i].imshow(img)\n",
    "        ax[i].axis('off')\n",
    "    plt.show()\n"
   ]
  },
  {
   "cell_type": "code",
   "execution_count": null,
   "metadata": {},
   "outputs": [],
   "source": [
    "IMG_SIZE = 256\n",
    "SPLIT = 0.2\n",
    "EPOCHS = 10\n",
    "BATCH_SIZE = 64"
   ]
  },
  {
   "cell_type": "code",
   "execution_count": null,
   "metadata": {},
   "outputs": [],
   "source": [
    "X = []\n",
    "Y = []\n",
    "\n",
    "\n",
    "for i, cat in enumerate(classes):\n",
    "    images = glob(f'{path}/{cat}/*.jpeg')\n",
    "\n",
    "    for image in images:\n",
    "        img = cv2.imread(image)\n",
    "\n",
    "        X.append(cv2.resize(img, (IMG_SIZE, IMG_SIZE)))\n",
    "        Y.append(i)\n",
    "\n",
    "X = np.asarray(X)\n",
    "one_hot_encoded_Y = pd.get_dummies(Y).values\n"
   ]
  },
  {
   "cell_type": "code",
   "execution_count": null,
   "metadata": {},
   "outputs": [],
   "source": [
    "X_train, X_val, Y_train, Y_val = train_test_split(X, one_hot_encoded_Y,\n",
    "\t\t\t\t\t\t\t\t\t\t\t\ttest_size = SPLIT,\n",
    "\t\t\t\t\t\t\t\t\t\t\t\trandom_state = 2022)\n",
    "print(X_train.shape, X_val.shape)"
   ]
  },
  {
   "cell_type": "code",
   "execution_count": null,
   "metadata": {},
   "outputs": [],
   "source": [
    "model = keras.models.Sequential([\n",
    "\tlayers.Conv2D(filters=32,\n",
    "\t\t\t\tkernel_size=(5, 5),\n",
    "\t\t\t\tactivation='relu',\n",
    "\t\t\t\tinput_shape=(IMG_SIZE,\n",
    "\t\t\t\t\t\t\tIMG_SIZE,\n",
    "\t\t\t\t\t\t\t3),\n",
    "\t\t\t\tpadding='same'),\n",
    "\tlayers.MaxPooling2D(2, 2),\n",
    "\n",
    "\tlayers.Conv2D(filters=64,\n",
    "\t\t\t\tkernel_size=(3, 3),\n",
    "\t\t\t\tactivation='relu',\n",
    "\t\t\t\tpadding='same'),\n",
    "\tlayers.MaxPooling2D(2, 2),\n",
    "\n",
    "\tlayers.Conv2D(filters=128,\n",
    "\t\t\t\tkernel_size=(3, 3),\n",
    "\t\t\t\tactivation='relu',\n",
    "\t\t\t\tpadding='same'),\n",
    "\tlayers.MaxPooling2D(2, 2),\n",
    "\n",
    "\tlayers.Flatten(),\n",
    "\tlayers.Dense(256, activation='relu'),\n",
    "\tlayers.BatchNormalization(),\n",
    "\tlayers.Dense(128, activation='relu'),\n",
    "\tlayers.Dropout(0.3),\n",
    "\tlayers.BatchNormalization(),\n",
    "\tlayers.Dense(3, activation='softmax')\n",
    "])"
   ]
  },
  {
   "cell_type": "code",
   "execution_count": null,
   "metadata": {},
   "outputs": [],
   "source": [
    "model.summary()"
   ]
  },
  {
   "cell_type": "code",
   "execution_count": null,
   "metadata": {},
   "outputs": [],
   "source": [
    "keras.utils.plot_model(\n",
    "\tmodel,\n",
    "\tshow_shapes = True,\n",
    "\tshow_dtype = True,\n",
    "\tshow_layer_activations = True\n",
    ")"
   ]
  },
  {
   "cell_type": "code",
   "execution_count": null,
   "metadata": {},
   "outputs": [],
   "source": [
    "model.compile(\n",
    "\toptimizer = 'adam',\n",
    "\tloss = 'categorical_crossentropy',\n",
    "\tmetrics = ['accuracy']\n",
    ")"
   ]
  },
  {
   "cell_type": "code",
   "execution_count": null,
   "metadata": {},
   "outputs": [],
   "source": [
    "from keras.callbacks import EarlyStopping, ReduceLROnPlateau\n",
    "\n",
    "\n",
    "class myCallback(tf.keras.callbacks.Callback):\n",
    "\tdef on_epoch_end(self, epoch, logs={}):\n",
    "\t\tif logs.get('val_accuracy') > 0.90:\n",
    "\t\t\tprint('\\n Validation accuracy has reached upto \\\n",
    "\t\t\t\t\t90% so, stopping further training.')\n",
    "\t\t\tself.model.stop_training = True\n",
    "\n",
    "\n",
    "es = EarlyStopping(patience=3,\n",
    "\t\t\t\tmonitor='val_accuracy',\n",
    "\t\t\t\trestore_best_weights=True)\n",
    "\n",
    "lr = ReduceLROnPlateau(monitor='val_loss',\n",
    "\t\t\t\t\tpatience=2,\n",
    "\t\t\t\t\tfactor=0.5,\n",
    "\t\t\t\t\tverbose=1)"
   ]
  },
  {
   "cell_type": "code",
   "execution_count": null,
   "metadata": {},
   "outputs": [],
   "source": [
    "history = model.fit(X_train, Y_train,\n",
    "\t\t\t\t\tvalidation_data = (X_val, Y_val),\n",
    "\t\t\t\t\tbatch_size = BATCH_SIZE,\n",
    "\t\t\t\t\tepochs = EPOCHS,\n",
    "\t\t\t\t\tverbose = 1,\n",
    "\t\t\t\t\tcallbacks = [es, lr, myCallback()])"
   ]
  },
  {
   "cell_type": "code",
   "execution_count": null,
   "metadata": {},
   "outputs": [],
   "source": [
    "history_df = pd.DataFrame(history.history)\n",
    "history_df.loc[:,['loss','val_loss']].plot()\n",
    "history_df.loc[:,['accuracy','val_accuracy']].plot()\n",
    "plt.show()"
   ]
  },
  {
   "cell_type": "code",
   "execution_count": null,
   "metadata": {},
   "outputs": [],
   "source": [
    "Y_pred = model.predict(X_val)\n",
    "Y_val = np.argmax(Y_val, axis=1)\n",
    "Y_pred = np.argmax(Y_pred, axis=1)"
   ]
  },
  {
   "cell_type": "code",
   "execution_count": null,
   "metadata": {},
   "outputs": [],
   "source": [
    "metrics.confusion_matrix(Y_val, Y_pred)"
   ]
  },
  {
   "cell_type": "code",
   "execution_count": null,
   "metadata": {},
   "outputs": [],
   "source": [
    "print(metrics.classification_report(Y_val, Y_pred,\n",
    "\t\t\t\t\t\t\t\t\ttarget_names=classes))"
   ]
  }
 ],
 "metadata": {
  "kernelspec": {
   "display_name": "Python 3",
   "language": "python",
   "name": "python3"
  },
  "language_info": {
   "codemirror_mode": {
    "name": "ipython",
    "version": 3
   },
   "file_extension": ".py",
   "mimetype": "text/x-python",
   "name": "python",
   "nbconvert_exporter": "python",
   "pygments_lexer": "ipython3",
   "version": "3.12.7"
  }
 },
 "nbformat": 4,
 "nbformat_minor": 2
}
